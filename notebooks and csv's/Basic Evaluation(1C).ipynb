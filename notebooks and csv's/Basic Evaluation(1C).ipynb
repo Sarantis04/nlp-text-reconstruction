{
 "cells": [
  {
   "cell_type": "code",
   "execution_count": null,
   "id": "27575f94-3de1-48ba-90c2-4d3d555a790c",
   "metadata": {
    "scrolled": true
   },
   "outputs": [],
   "source": [
    "!pip install seaborn"
   ]
  },
  {
   "cell_type": "code",
   "execution_count": 1,
   "id": "4c20697d-fa4a-4333-a30c-f028f2bb46a0",
   "metadata": {},
   "outputs": [
    {
     "name": "stderr",
     "output_type": "stream",
     "text": [
      "E:\\anaconda3\\envs\\nlp2025\\Lib\\site-packages\\tqdm\\auto.py:21: TqdmWarning: IProgress not found. Please update jupyter and ipywidgets. See https://ipywidgets.readthedocs.io/en/stable/user_install.html\n",
      "  from .autonotebook import tqdm as notebook_tqdm\n"
     ]
    }
   ],
   "source": [
    "import pandas as pd\n",
    "from sentence_transformers import SentenceTransformer\n",
    "from sklearn.metrics.pairwise import cosine_similarity"
   ]
  },
  {
   "cell_type": "code",
   "execution_count": 2,
   "id": "e76390c8-777f-4c46-b7dc-a514670993a3",
   "metadata": {},
   "outputs": [],
   "source": [
    "gold_standards = {\n",
    "    1: \"\"\"Today we are celebrating the Dragon Boat Festival. In Chinese culture, this festival is a time to wish for safety, health, and good fortune in our lives. I also send these wishes to you, hoping you can share in the joy of the occasion.\n",
    "\n",
    "Thank you for passing our message to the doctor in connection with his upcoming contract review. I already received confirmation of this from the professor a few days ago, and I am truly grateful for his continued support, especially regarding our Springer proceedings publication.\"\"\",\n",
    "    \n",
    "    2: \"\"\"During our final discussion, I mentioned the new submission — the one we had been waiting for since last autumn. However, the updates were somewhat confusing, as they did not seem to include the full feedback from the reviewer or perhaps the editor.\n",
    "\n",
    "Still, I believe the team — despite some delays and less communication in recent days — truly gave their best effort for both the paper and our collaboration. We should all be grateful for the acceptance and for everyone’s hard work, especially since the paper finally appeared on SpringerLink last week.\n",
    "\n",
    "Could you also kindly remind me if the doctor still plans to edit the acknowledgments section before sending the final version? I didn’t see that part completed yet — or perhaps I overlooked it; if so, my apologies.\n",
    "\n",
    "In any case, let’s make sure everything is finalized, stay safe, and celebrate this outcome together with strong coffee and new goals for the future.\"\"\"\n",
    "}"
   ]
  },
  {
   "cell_type": "code",
   "execution_count": 3,
   "id": "8abff76a-6824-45be-ae2b-759190696df0",
   "metadata": {},
   "outputs": [
    {
     "name": "stdout",
     "output_type": "stream",
     "text": [
      "Rule-based:\n"
     ]
    },
    {
     "data": {
      "text/html": [
       "<div>\n",
       "<style scoped>\n",
       "    .dataframe tbody tr th:only-of-type {\n",
       "        vertical-align: middle;\n",
       "    }\n",
       "\n",
       "    .dataframe tbody tr th {\n",
       "        vertical-align: top;\n",
       "    }\n",
       "\n",
       "    .dataframe thead th {\n",
       "        text-align: right;\n",
       "    }\n",
       "</style>\n",
       "<table border=\"1\" class=\"dataframe\">\n",
       "  <thead>\n",
       "    <tr style=\"text-align: right;\">\n",
       "      <th></th>\n",
       "      <th>Text_ID</th>\n",
       "      <th>Original_Text</th>\n",
       "      <th>Rule_Based_Rewrite</th>\n",
       "    </tr>\n",
       "  </thead>\n",
       "  <tbody>\n",
       "    <tr>\n",
       "      <th>0</th>\n",
       "      <td>1</td>\n",
       "      <td>Today is our dragon boat festival, in our Chin...</td>\n",
       "      <td>Today is the Dragon Boat Festival, an importan...</td>\n",
       "    </tr>\n",
       "    <tr>\n",
       "      <th>1</th>\n",
       "      <td>2</td>\n",
       "      <td>During our final discuss, I told him about the...</td>\n",
       "      <td>During our last discussion, I informed him abo...</td>\n",
       "    </tr>\n",
       "  </tbody>\n",
       "</table>\n",
       "</div>"
      ],
      "text/plain": [
       "   Text_ID                                      Original_Text  \\\n",
       "0        1  Today is our dragon boat festival, in our Chin...   \n",
       "1        2  During our final discuss, I told him about the...   \n",
       "\n",
       "                                  Rule_Based_Rewrite  \n",
       "0  Today is the Dragon Boat Festival, an importan...  \n",
       "1  During our last discussion, I informed him abo...  "
      ]
     },
     "execution_count": 3,
     "metadata": {},
     "output_type": "execute_result"
    }
   ],
   "source": [
    "rule_df = pd.read_csv(\"rule_based_outputs.csv\")\n",
    "\n",
    "print(\"Rule-based:\")\n",
    "rule_df.head()"
   ]
  },
  {
   "cell_type": "code",
   "execution_count": 4,
   "id": "d45d2983-83fc-4e55-b03e-1e2176afe1b4",
   "metadata": {},
   "outputs": [
    {
     "name": "stdout",
     "output_type": "stream",
     "text": [
      "\n",
      "Pipelines:\n",
      "\n"
     ]
    },
    {
     "data": {
      "text/html": [
       "<div>\n",
       "<style scoped>\n",
       "    .dataframe tbody tr th:only-of-type {\n",
       "        vertical-align: middle;\n",
       "    }\n",
       "\n",
       "    .dataframe tbody tr th {\n",
       "        vertical-align: top;\n",
       "    }\n",
       "\n",
       "    .dataframe thead th {\n",
       "        text-align: right;\n",
       "    }\n",
       "</style>\n",
       "<table border=\"1\" class=\"dataframe\">\n",
       "  <thead>\n",
       "    <tr style=\"text-align: right;\">\n",
       "      <th></th>\n",
       "      <th>Text_ID</th>\n",
       "      <th>Original_Text</th>\n",
       "      <th>First_Model_Grammar</th>\n",
       "      <th>Second_Model_Summary</th>\n",
       "      <th>Third_Model_Grammar</th>\n",
       "    </tr>\n",
       "  </thead>\n",
       "  <tbody>\n",
       "    <tr>\n",
       "      <th>0</th>\n",
       "      <td>1</td>\n",
       "      <td>Today is our dragon boat festival, in our Chin...</td>\n",
       "      <td>Today is our dragon boat festival, in our Chin...</td>\n",
       "      <td>It is our dragon boat festival, in our Chines...</td>\n",
       "      <td>Today is our dragon boat festival, in our Chin...</td>\n",
       "    </tr>\n",
       "    <tr>\n",
       "      <th>1</th>\n",
       "      <td>2</td>\n",
       "      <td>During our final discuss, I told him about the...</td>\n",
       "      <td>During our final discuss, I told him about the...</td>\n",
       "      <td>The Springer link finally came finally last w...</td>\n",
       "      <td>During our final discuss, I told him about the...</td>\n",
       "    </tr>\n",
       "  </tbody>\n",
       "</table>\n",
       "</div>"
      ],
      "text/plain": [
       "   Text_ID                                      Original_Text  \\\n",
       "0        1  Today is our dragon boat festival, in our Chin...   \n",
       "1        2  During our final discuss, I told him about the...   \n",
       "\n",
       "                                 First_Model_Grammar  \\\n",
       "0  Today is our dragon boat festival, in our Chin...   \n",
       "1  During our final discuss, I told him about the...   \n",
       "\n",
       "                                Second_Model_Summary  \\\n",
       "0   It is our dragon boat festival, in our Chines...   \n",
       "1   The Springer link finally came finally last w...   \n",
       "\n",
       "                                 Third_Model_Grammar  \n",
       "0  Today is our dragon boat festival, in our Chin...  \n",
       "1  During our final discuss, I told him about the...  "
      ]
     },
     "execution_count": 4,
     "metadata": {},
     "output_type": "execute_result"
    }
   ],
   "source": [
    "pipe_df = pd.read_csv(\"pipeline_outputs.csv\")\n",
    "\n",
    "print(\"\\nPipelines:\\n\")\n",
    "pipe_df.head()"
   ]
  },
  {
   "cell_type": "code",
   "execution_count": 5,
   "id": "d5fe214e-4920-469c-84ec-6b77a6de5f13",
   "metadata": {},
   "outputs": [
    {
     "data": {
      "text/html": [
       "<div>\n",
       "<style scoped>\n",
       "    .dataframe tbody tr th:only-of-type {\n",
       "        vertical-align: middle;\n",
       "    }\n",
       "\n",
       "    .dataframe tbody tr th {\n",
       "        vertical-align: top;\n",
       "    }\n",
       "\n",
       "    .dataframe thead th {\n",
       "        text-align: right;\n",
       "    }\n",
       "</style>\n",
       "<table border=\"1\" class=\"dataframe\">\n",
       "  <thead>\n",
       "    <tr style=\"text-align: right;\">\n",
       "      <th></th>\n",
       "      <th>Text_ID</th>\n",
       "      <th>Original_Text_x</th>\n",
       "      <th>Rule_Based_Rewrite</th>\n",
       "      <th>Original_Text_y</th>\n",
       "      <th>First_Model_Grammar</th>\n",
       "      <th>Second_Model_Summary</th>\n",
       "      <th>Third_Model_Grammar</th>\n",
       "    </tr>\n",
       "  </thead>\n",
       "  <tbody>\n",
       "    <tr>\n",
       "      <th>0</th>\n",
       "      <td>1</td>\n",
       "      <td>Today is our dragon boat festival, in our Chin...</td>\n",
       "      <td>Today is the Dragon Boat Festival, an importan...</td>\n",
       "      <td>Today is our dragon boat festival, in our Chin...</td>\n",
       "      <td>Today is our dragon boat festival, in our Chin...</td>\n",
       "      <td>It is our dragon boat festival, in our Chines...</td>\n",
       "      <td>Today is our dragon boat festival, in our Chin...</td>\n",
       "    </tr>\n",
       "    <tr>\n",
       "      <th>1</th>\n",
       "      <td>2</td>\n",
       "      <td>During our final discuss, I told him about the...</td>\n",
       "      <td>During our last discussion, I informed him abo...</td>\n",
       "      <td>During our final discuss, I told him about the...</td>\n",
       "      <td>During our final discuss, I told him about the...</td>\n",
       "      <td>The Springer link finally came finally last w...</td>\n",
       "      <td>During our final discuss, I told him about the...</td>\n",
       "    </tr>\n",
       "  </tbody>\n",
       "</table>\n",
       "</div>"
      ],
      "text/plain": [
       "   Text_ID                                    Original_Text_x  \\\n",
       "0        1  Today is our dragon boat festival, in our Chin...   \n",
       "1        2  During our final discuss, I told him about the...   \n",
       "\n",
       "                                  Rule_Based_Rewrite  \\\n",
       "0  Today is the Dragon Boat Festival, an importan...   \n",
       "1  During our last discussion, I informed him abo...   \n",
       "\n",
       "                                     Original_Text_y  \\\n",
       "0  Today is our dragon boat festival, in our Chin...   \n",
       "1  During our final discuss, I told him about the...   \n",
       "\n",
       "                                 First_Model_Grammar  \\\n",
       "0  Today is our dragon boat festival, in our Chin...   \n",
       "1  During our final discuss, I told him about the...   \n",
       "\n",
       "                                Second_Model_Summary  \\\n",
       "0   It is our dragon boat festival, in our Chines...   \n",
       "1   The Springer link finally came finally last w...   \n",
       "\n",
       "                                 Third_Model_Grammar  \n",
       "0  Today is our dragon boat festival, in our Chin...  \n",
       "1  During our final discuss, I told him about the...  "
      ]
     },
     "execution_count": 5,
     "metadata": {},
     "output_type": "execute_result"
    }
   ],
   "source": [
    "df = pd.merge(rule_df, pipe_df, on=\"Text_ID\", how=\"inner\")\n",
    "\n",
    "df.head()"
   ]
  },
  {
   "cell_type": "code",
   "execution_count": 6,
   "id": "0b054e13-30a1-4ecd-b04f-839328a9d7b5",
   "metadata": {},
   "outputs": [
    {
     "data": {
      "text/html": [
       "<div>\n",
       "<style scoped>\n",
       "    .dataframe tbody tr th:only-of-type {\n",
       "        vertical-align: middle;\n",
       "    }\n",
       "\n",
       "    .dataframe tbody tr th {\n",
       "        vertical-align: top;\n",
       "    }\n",
       "\n",
       "    .dataframe thead th {\n",
       "        text-align: right;\n",
       "    }\n",
       "</style>\n",
       "<table border=\"1\" class=\"dataframe\">\n",
       "  <thead>\n",
       "    <tr style=\"text-align: right;\">\n",
       "      <th></th>\n",
       "      <th>Text_ID</th>\n",
       "      <th>Orig_vs_Rule</th>\n",
       "      <th>Orig_vs_First</th>\n",
       "      <th>Orig_vs_Second</th>\n",
       "      <th>Orig_vs_Third</th>\n",
       "      <th>Rule_vs_First</th>\n",
       "      <th>Rule_vs_Second</th>\n",
       "      <th>Rule_vs_Third</th>\n",
       "      <th>Gold_vs_Rule</th>\n",
       "      <th>Gold_vs_First</th>\n",
       "      <th>Gold_vs_Second</th>\n",
       "      <th>Gold_vs_Third</th>\n",
       "      <th>Gold_vs_Orig</th>\n",
       "    </tr>\n",
       "  </thead>\n",
       "  <tbody>\n",
       "    <tr>\n",
       "      <th>0</th>\n",
       "      <td>1</td>\n",
       "      <td>0.985884</td>\n",
       "      <td>0.997289</td>\n",
       "      <td>0.836562</td>\n",
       "      <td>0.993779</td>\n",
       "      <td>0.986431</td>\n",
       "      <td>0.846993</td>\n",
       "      <td>0.983883</td>\n",
       "      <td>0.933969</td>\n",
       "      <td>0.935001</td>\n",
       "      <td>0.854182</td>\n",
       "      <td>0.944220</td>\n",
       "      <td>0.924948</td>\n",
       "    </tr>\n",
       "    <tr>\n",
       "      <th>1</th>\n",
       "      <td>2</td>\n",
       "      <td>0.994018</td>\n",
       "      <td>0.995302</td>\n",
       "      <td>0.598943</td>\n",
       "      <td>0.995053</td>\n",
       "      <td>0.993472</td>\n",
       "      <td>0.595070</td>\n",
       "      <td>0.991171</td>\n",
       "      <td>0.927815</td>\n",
       "      <td>0.928759</td>\n",
       "      <td>0.457203</td>\n",
       "      <td>0.931976</td>\n",
       "      <td>0.925568</td>\n",
       "    </tr>\n",
       "  </tbody>\n",
       "</table>\n",
       "</div>"
      ],
      "text/plain": [
       "   Text_ID  Orig_vs_Rule  Orig_vs_First  Orig_vs_Second  Orig_vs_Third  \\\n",
       "0        1      0.985884       0.997289        0.836562       0.993779   \n",
       "1        2      0.994018       0.995302        0.598943       0.995053   \n",
       "\n",
       "   Rule_vs_First  Rule_vs_Second  Rule_vs_Third  Gold_vs_Rule  Gold_vs_First  \\\n",
       "0       0.986431        0.846993       0.983883      0.933969       0.935001   \n",
       "1       0.993472        0.595070       0.991171      0.927815       0.928759   \n",
       "\n",
       "   Gold_vs_Second  Gold_vs_Third  Gold_vs_Orig  \n",
       "0        0.854182       0.944220      0.924948  \n",
       "1        0.457203       0.931976      0.925568  "
      ]
     },
     "execution_count": 6,
     "metadata": {},
     "output_type": "execute_result"
    }
   ],
   "source": [
    "model = SentenceTransformer('all-MiniLM-L6-v2')\n",
    "\n",
    "comparisons = []\n",
    "\n",
    "for i, row in df.iterrows():\n",
    "    original = row[\"Original_Text_x\"]\n",
    "    rule = row[\"Rule_Based_Rewrite\"]\n",
    "    first_m = row.get(\"First_Model_Grammar\", \"\")\n",
    "    second_m = row.get(\"Second_Model_Summary\", \"\")\n",
    "    third_m = row.get(\"Third_Model_Grammar\", \"\")\n",
    "    gold = gold_standards.get(row[\"Text_ID\"], \"\")\n",
    "\n",
    "    emb_original = model.encode([original])\n",
    "    emb_rule = model.encode([rule])\n",
    "    emb_first = model.encode([first_m])\n",
    "    emb_second = model.encode([second_m])\n",
    "    emb_third = model.encode([third_m])\n",
    "    emb_gold = model.encode([gold])\n",
    "\n",
    "    sims = {\n",
    "        \"Text_ID\": row[\"Text_ID\"],\n",
    "        \"Orig_vs_Rule\": cosine_similarity(emb_original, emb_rule)[0][0],\n",
    "        \"Orig_vs_First\": cosine_similarity(emb_original, emb_first)[0][0],\n",
    "        \"Orig_vs_Second\": cosine_similarity(emb_original, emb_second)[0][0],\n",
    "        \"Orig_vs_Third\": cosine_similarity(emb_original, emb_third)[0][0],\n",
    "\n",
    "        \"Rule_vs_First\": cosine_similarity(emb_rule, emb_first)[0][0],\n",
    "        \"Rule_vs_Second\": cosine_similarity(emb_rule, emb_second)[0][0],\n",
    "        \"Rule_vs_Third\": cosine_similarity(emb_rule, emb_third)[0][0],\n",
    "\n",
    "        \"Gold_vs_Rule\": cosine_similarity(emb_gold, emb_rule)[0][0],\n",
    "        \"Gold_vs_First\": cosine_similarity(emb_gold, emb_first)[0][0],\n",
    "        \"Gold_vs_Second\": cosine_similarity(emb_gold, emb_second)[0][0],\n",
    "        \"Gold_vs_Third\": cosine_similarity(emb_gold, emb_third)[0][0],\n",
    "        \"Gold_vs_Orig\": cosine_similarity(emb_gold, emb_original)[0][0]\n",
    "    }\n",
    "    comparisons.append(sims)\n",
    "\n",
    "sims_df = pd.DataFrame(comparisons)\n",
    "sims_df"
   ]
  },
  {
   "cell_type": "code",
   "execution_count": 7,
   "id": "6347fb5c-a8a7-4288-89c6-232a1a472fea",
   "metadata": {},
   "outputs": [
    {
     "name": "stdout",
     "output_type": "stream",
     "text": [
      "✅ Similarity results saved to similarity_results.csv\n"
     ]
    }
   ],
   "source": [
    "sims_df.to_csv(\"similarity_results.csv\", index=False)\n",
    "print(\"✅ Similarity results saved to similarity_results.csv\")\n"
   ]
  },
  {
   "cell_type": "code",
   "execution_count": null,
   "id": "ac286b39-e5cf-4729-915c-82e27d98636d",
   "metadata": {},
   "outputs": [],
   "source": [
    "import seaborn as sns\n",
    "import matplotlib.pyplot as plt"
   ]
  },
  {
   "cell_type": "code",
   "execution_count": 8,
   "id": "ad952394-a39e-4758-8f93-fa5fc5674b5a",
   "metadata": {},
   "outputs": [
    {
     "data": {
      "image/png": "[encoded data removed]",
      "text/plain": [
       "<Figure size 1000x600 with 2 Axes>"
      ]
     },
     "metadata": {},
     "output_type": "display_data"
    }
   ],
   "source": [
    "plt.figure(figsize=(10,6))\n",
    "sns.heatmap(sims_df.drop(columns=\"Text_ID\"), annot=True, cmap=\"Blues\")\n",
    "plt.title(\"Cosine Similarities Between Methods\")\n",
    "plt.show()"
   ]
  },
  {
   "cell_type": "code",
   "execution_count": null,
   "id": "ef10f369-28e2-469f-80f9-329914227f98",
   "metadata": {},
   "outputs": [],
   "source": []
  }
 ],
 "metadata": {
  "kernelspec": {
   "display_name": "Python (nlp2025)",
   "language": "python",
   "name": "nlp2025"
  },
  "language_info": {
   "codemirror_mode": {
    "name": "ipython",
    "version": 3
   },
   "file_extension": ".py",
   "mimetype": "text/x-python",
   "name": "python",
   "nbconvert_exporter": "python",
   "pygments_lexer": "ipython3",
   "version": "3.13.7"
  }
 },
 "nbformat": 4,
 "nbformat_minor": 5
}
