{
 "cells": [
  {
   "cell_type": "code",
   "execution_count": null,
   "id": "92a0bc8e-8e8b-4cb1-a18b-271690a22d5f",
   "metadata": {},
   "outputs": [],
   "source": [
    "!pip install nltk pandas"
   ]
  },
  {
   "cell_type": "code",
   "execution_count": 1,
   "id": "776f7495-a03e-41f9-9a48-e2c8287e104c",
   "metadata": {},
   "outputs": [],
   "source": [
    "import nltk\n",
    "import re\n",
    "import pandas as pd"
   ]
  },
  {
   "cell_type": "code",
   "execution_count": 13,
   "id": "b96e9ba2-3f14-4f82-9323-dc010bd56936",
   "metadata": {},
   "outputs": [],
   "source": [
    "text1 = \"\"\"Today is our dragon boat festival, in our Chinese culture, to celebrate it with all safe and great in our lives. Hope you too, to enjoy it as my deepest wishes.\n",
    "Thank your message to show our words to the doctor, as his next contract checking, to all of us.\n",
    "I got this message to see the approved message. In fact, I have received the message from the professor, to show me, this, a couple of days ago. I am very appreciated the full support of the professor, for our Springer proceedings publication\n",
    "\"\"\"\n",
    "\n",
    "text2 = \"\"\"During our final discuss, I told him about the new submission — the one we were waiting since last autumn, but the updates was confusing as it not included the full feedback from reviewer or\n",
    "maybe editor?\n",
    "Anyway, I believe the team, although bit delay and less communication at recent days, they really\n",
    "tried best for paper and cooperation. We should be grateful, I mean all of us, for the acceptance\n",
    "and efforts until the Springer link came finally last week, I think.\n",
    "Also, kindly remind me please, if the doctor still plan for the acknowledgments section edit before\n",
    "he sending again. Because I didn’t see that part final yet, or maybe I missed, I apologize if so.\n",
    "Overall, let us make sure all are safe and celebrate the outcome with strong coffee and future\n",
    "targets\"\"\""
   ]
  },
  {
   "cell_type": "code",
   "execution_count": 15,
   "id": "d6855445-f8e9-4905-a6ed-6b48105d5d8f",
   "metadata": {},
   "outputs": [
    {
     "name": "stdout",
     "output_type": "stream",
     "text": [
      "Today is the Dragon Boat Festival, an important celebration in Chinese culture. I deeply wish for you to enjoy it as well. Thank your message to show our words to the doctor, as his next contract checking, to all of us. I got this message to see the approved message. In fact, I have received the message from the professor, to show me, this, a couple of days ago. I am very appreciated the full support of the professor, for our Springer proceedings publication\n",
      "\n",
      " During our last discussion, I informed him about the new submission,then one we had been waiting for since last autumn but the updates was confusing as it not included the full feedback from reviewer or\n",
      "maybe editor? Anyway, I believe the team, although bit delay and less communication at recent days, they really\n",
      "tried best for paper and cooperation. We should be grateful, I mean all of us, for the acceptance\n",
      "and efforts until the Springer link came finally last week, I think. Also, kindly remind me please, if the doctor still plan for the acknowledgments section edit before\n",
      "he sending again. Because I didn’t see that part final yet, or maybe I missed, I apologize if so. Overall, let us make sure all are safe and celebrate the outcome with strong coffee and future\n",
      "targets\n",
      "\n",
      "✅ Rule-based outputs saved to rule_based_outputs.csv\n"
     ]
    }
   ],
   "source": [
    "result=[]\n",
    "\n",
    "def custom_rewrite_text1(sentence: str) -> str:\n",
    "    sentence = re.sub(\n",
    "        r\"Today is our dragon boat festival.*\",\n",
    "        \"Today is the Dragon Boat Festival, an important celebration in Chinese culture.\",\n",
    "        sentence\n",
    "    )\n",
    "    sentence = re.sub(\n",
    "        r\"Hope you too, to enjoy it as my deepest wishes.*\",\n",
    "        \"I deeply wish for you to enjoy it as well.\",\n",
    "        sentence\n",
    "    )\n",
    "    return sentence\n",
    "\n",
    "def custom_rewrite_text2(sentence: str) -> str:\n",
    "    sentence = re.sub(\n",
    "        r\"During our final discuss, I told him about the new submission — the one we were waiting since last autumn,*\",\n",
    "        \"During our last discussion, I informed him about the new submission,the one we had been waiting for since last autumn\",\n",
    "        sentence\n",
    "    )\n",
    "    return sentence\n",
    "\n",
    "sentences1 = nltk.sent_tokenize(text1)\n",
    "rewritten_sentences1 = [custom_rewrite_text1(s) for s in sentences1]\n",
    "rewritten_text1 = \" \".join(rewritten_sentences1)\n",
    "print (rewritten_text1)\n",
    "\n",
    "result.append({\n",
    "    \"Text_ID\": 1,\n",
    "    \"Original_Text\": text1,\n",
    "    \"Rule_Based_Rewrite\": rewritten_text1\n",
    "})\n",
    "\n",
    "sentences2 = nltk.sent_tokenize(text2)\n",
    "rewritten_sentences2 = [custom_rewrite_text2(s) for s in sentences2]\n",
    "rewritten_text2 = \" \".join(rewritten_sentences2)\n",
    "print (\"\\n\",rewritten_text2)\n",
    "\n",
    "result.append({\n",
    "    \"Text_ID\": 2,\n",
    "    \"Original_Text\": text2,\n",
    "    \"Rule_Based_Rewrite\": rewritten_text2\n",
    "})\n",
    "\n",
    "\n",
    "df = pd.DataFrame(result)\n",
    "df.to_csv(\"rule_based_outputs.csv\", index=False)\n",
    "\n",
    "print(\"\\n✅ Rule-based outputs saved to rule_based_outputs.csv\")"
   ]
  }
 ],
 "metadata": {
  "kernelspec": {
   "display_name": "Python (nlp2025)",
   "language": "python",
   "name": "nlp2025"
  },
  "language_info": {
   "codemirror_mode": {
    "name": "ipython",
    "version": 3
   },
   "file_extension": ".py",
   "mimetype": "text/x-python",
   "name": "python",
   "nbconvert_exporter": "python",
   "pygments_lexer": "ipython3",
   "version": "3.13.7"
  }
 },
 "nbformat": 4,
 "nbformat_minor": 5
}
